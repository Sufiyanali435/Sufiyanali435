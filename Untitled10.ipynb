{
 "cells": [
  {
   "cell_type": "code",
   "execution_count": 2,
   "id": "d5112a75",
   "metadata": {},
   "outputs": [
    {
     "name": "stdout",
     "output_type": "stream",
     "text": [
      "Enter Name: sufi\n",
      "Enter Roll No: 22\n",
      "Enter Islamiyat Marks: 66\n",
      "Enter English Marks: 77\n",
      "Enter Maths Marks: 88\n",
      "--------------MARKSHEET--------------\n",
      "NAME:sufi\n",
      "Roll No:22\n",
      "Obtained Marks:231\n",
      "Percentage:77.0\n",
      "GRADE A\n",
      "REMARKS: VERY GOOD\n"
     ]
    }
   ],
   "source": [
    "NAME = input(\"Enter Name: \")\n",
    "Roll_No = int(input(\"Enter Roll No: \"))\n",
    "Islamiyat = int(input(\"Enter Islamiyat Marks: \"))\n",
    "English = int(input(\"Enter English Marks: \"))\n",
    "Maths = int(input(\"Enter Maths Marks: \"))\n",
    "\n",
    "Obtained_Marks = Islamiyat + English + Maths;\n",
    "percentage = Obtained_Marks / 300 * 100;\n",
    "\n",
    "print(\"--------------MARKSHEET--------------\");\n",
    "print(\"NAME:\" + (NAME))\n",
    "print(\"Roll No:\" + str(Roll_No))\n",
    "print(\"Obtained Marks:\" + str(Obtained_Marks))\n",
    "print(\"Percentage:\" + str(percentage))\n",
    "\n",
    "if percentage >= 80:\n",
    "    print(\"GRADE A+\");\n",
    "    print(\"REMARKS: EXELENT\");\n",
    "elif percentage >= 70:\n",
    "    print(\"GRADE A\");\n",
    "    print(\"REMARKS: VERY GOOD\");\n",
    "\n",
    "elif percentage >= 60:\n",
    "    print(\"GRADE B\");\n",
    "    print(\"REMARKS: GOOD\");\n",
    "    \n",
    "elif percentage >= 50:\n",
    "    print(\"GRADE C\");\n",
    "    print(\"REMARKS: FAIR\");\n",
    "    \n",
    "elif percentage >= 40:\n",
    "     print(\"GRADE D\");\n",
    "     print(\"REMARKS: POOR\");\n",
    "\n",
    "elif percentage >= 33:\n",
    "     print(\"GRADE E\");\n",
    "     print(\"REMARKS: NEED IMPROVEMENT\");\n",
    "\n",
    "else:\n",
    "    print(\"GRADE F (FAIL)\")\n",
    "    print(\"REMARKS: VERY BAD\");"
   ]
  },
  {
   "cell_type": "code",
   "execution_count": null,
   "id": "87e58754",
   "metadata": {},
   "outputs": [],
   "source": []
  }
 ],
 "metadata": {
  "kernelspec": {
   "display_name": "Python 3",
   "language": "python",
   "name": "python3"
  }
 },
 "nbformat": 4,
 "nbformat_minor": 5
}
